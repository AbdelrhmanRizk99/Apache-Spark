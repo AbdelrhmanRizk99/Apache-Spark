{
 "cells": [
  {
   "cell_type": "code",
   "execution_count": 1,
   "id": "98d9caba-8374-45f2-8f00-86fe33486973",
   "metadata": {},
   "outputs": [],
   "source": [
    "import findspark\n",
    "findspark.init()"
   ]
  },
  {
   "cell_type": "code",
   "execution_count": 2,
   "id": "cef6d545-52e5-406b-8319-8020c798a633",
   "metadata": {},
   "outputs": [],
   "source": [
    "from pyspark import SparkContext, SparkConf"
   ]
  },
  {
   "cell_type": "code",
   "execution_count": 3,
   "id": "2cd289b4-9477-4d8d-bf82-861fe0148a04",
   "metadata": {},
   "outputs": [],
   "source": [
    "import csv\n",
    "import io"
   ]
  },
  {
   "cell_type": "code",
   "execution_count": 4,
   "id": "1de8c62c-6a21-4f6b-9caa-0671ad1ae2a8",
   "metadata": {},
   "outputs": [],
   "source": [
    "conf = SparkConf().setMaster(\"local\").setAppName(\"CSV\")\n",
    "sc = SparkContext(conf=conf)"
   ]
  },
  {
   "cell_type": "code",
   "execution_count": 5,
   "id": "10f85007-4125-4eb0-a118-27c6a4d94b55",
   "metadata": {},
   "outputs": [],
   "source": [
    "def loadRecord(line):\n",
    "  \n",
    "    inputData = io.StringIO(line)\n",
    "    reader = csv.DictReader(inputData, fieldnames=[\"id\", \"name\", \"age\", \"is_member\", \"join_date\", \"purchases\"])\n",
    "\n",
    "    return next(reader)"
   ]
  },
  {
   "cell_type": "code",
   "execution_count": 6,
   "id": "088e68fd-5e16-49c2-bbcd-fb30503bf482",
   "metadata": {},
   "outputs": [],
   "source": [
    "fileCSV = sc.textFile(\"C:/Users/Abdelrhman/OneDrive/Desktop/python/Sources/CSV.csv\").map(loadRecord)"
   ]
  },
  {
   "cell_type": "code",
   "execution_count": 7,
   "id": "602c6aed-faf4-4cc8-92ae-6e4e658bb77b",
   "metadata": {},
   "outputs": [
    {
     "data": {
      "text/plain": [
       "[{'id': '1',\n",
       "  'name': 'Alice',\n",
       "  'age': '25',\n",
       "  'is_member': 'TRUE',\n",
       "  'join_date': '1/15/2022',\n",
       "  'purchases': 'book,pen'},\n",
       " {'id': '2',\n",
       "  'name': 'Bob',\n",
       "  'age': '30',\n",
       "  'is_member': 'FALSE',\n",
       "  'join_date': '12/1/2021',\n",
       "  'purchases': 'notebook,laptop'},\n",
       " {'id': '3',\n",
       "  'name': 'Charlie',\n",
       "  'age': '35',\n",
       "  'is_member': 'TRUE',\n",
       "  'join_date': '3/22/2023',\n",
       "  'purchases': 'phone,headphones'}]"
      ]
     },
     "execution_count": 7,
     "metadata": {},
     "output_type": "execute_result"
    }
   ],
   "source": [
    "fileCSV.take(3)"
   ]
  },
  {
   "cell_type": "code",
   "execution_count": 8,
   "id": "b4c7ad92-95c7-4e34-b5c2-fd42273a0f30",
   "metadata": {},
   "outputs": [
    {
     "data": {
      "text/plain": [
       "['1,Alice,25,TRUE,1/15/2022,\"book,pen\"',\n",
       " '2,Bob,30,FALSE,12/1/2021,\"notebook,laptop\"',\n",
       " '3,Charlie,35,TRUE,3/22/2023,\"phone,headphones\"']"
      ]
     },
     "execution_count": 8,
     "metadata": {},
     "output_type": "execute_result"
    }
   ],
   "source": [
    "fileCSV = sc.textFile(\"C:/Users/Abdelrhman/OneDrive/Desktop/python/Sources/CSV.csv\")\n",
    "fileCSV.take(3)"
   ]
  },
  {
   "cell_type": "code",
   "execution_count": 9,
   "id": "1a456fee-557e-4cc1-9cc3-b867e3dd25e4",
   "metadata": {},
   "outputs": [],
   "source": [
    "def loadRecords(fileName):\n",
    "  \n",
    "    inputData = io.StringIO(fileName[1])\n",
    "    reader = csv.DictReader(inputData, fieldnames=[\"id\", \"name\", \"age\", \"is_member\", \"join_date\", \"purchases\"])\n",
    "    return reader"
   ]
  },
  {
   "cell_type": "code",
   "execution_count": 10,
   "id": "d8668c4e-2c78-4097-a32a-edac455767b6",
   "metadata": {},
   "outputs": [],
   "source": [
    "allFilesData  =  sc.wholeTextFiles(\"C:/Users/Abdelrhman/OneDrive/Desktop/python/Sources/csv\").flatMap(loadRecords)"
   ]
  },
  {
   "cell_type": "code",
   "execution_count": 11,
   "id": "b88d90ce-07e2-4c01-99e9-8d77e9d20bee",
   "metadata": {},
   "outputs": [
    {
     "data": {
      "text/plain": [
       "[{'id': '1',\n",
       "  'name': 'Alice',\n",
       "  'age': '25',\n",
       "  'is_member': 'TRUE',\n",
       "  'join_date': '1/15/2022',\n",
       "  'purchases': 'book,pen'},\n",
       " {'id': '2',\n",
       "  'name': 'Bob',\n",
       "  'age': '30',\n",
       "  'is_member': 'FALSE',\n",
       "  'join_date': '12/1/2021',\n",
       "  'purchases': 'notebook,laptop'},\n",
       " {'id': '3',\n",
       "  'name': 'Charlie',\n",
       "  'age': '35',\n",
       "  'is_member': 'TRUE',\n",
       "  'join_date': '3/22/2023',\n",
       "  'purchases': 'phone,headphones'},\n",
       " {'id': '4',\n",
       "  'name': 'Diana',\n",
       "  'age': '28',\n",
       "  'is_member': 'TRUE',\n",
       "  'join_date': '6/10/2020',\n",
       "  'purchases': 'tablet,case'},\n",
       " {'id': '5',\n",
       "  'name': 'Eve',\n",
       "  'age': '22',\n",
       "  'is_member': 'FALSE',\n",
       "  'join_date': '9/30/2022',\n",
       "  'purchases': 'camera,lens'},\n",
       " {'id': '6',\n",
       "  'name': 'Frank',\n",
       "  'age': '40',\n",
       "  'is_member': 'TRUE',\n",
       "  'join_date': '11/5/2019',\n",
       "  'purchases': 'printer,ink'},\n",
       " {'id': '7',\n",
       "  'name': 'Grace',\n",
       "  'age': '31',\n",
       "  'is_member': 'FALSE',\n",
       "  'join_date': '4/19/2021',\n",
       "  'purchases': 'monitor,keyboard'},\n",
       " {'id': '8',\n",
       "  'name': 'Hank',\n",
       "  'age': '27',\n",
       "  'is_member': 'TRUE',\n",
       "  'join_date': '7/1/2023',\n",
       "  'purchases': 'smartwatch,charger'},\n",
       " {'id': '9',\n",
       "  'name': 'Ivy',\n",
       "  'age': '29',\n",
       "  'is_member': 'FALSE',\n",
       "  'join_date': '8/15/2022',\n",
       "  'purchases': 'desk,chair'},\n",
       " {'id': '10',\n",
       "  'name': 'Jack',\n",
       "  'age': '33',\n",
       "  'is_member': 'TRUE',\n",
       "  'join_date': '2/28/2020',\n",
       "  'purchases': 'router,cables'},\n",
       " {'id': '1',\n",
       "  'name': 'Alice',\n",
       "  'age': '25',\n",
       "  'is_member': 'TRUE',\n",
       "  'join_date': '1/15/2022',\n",
       "  'purchases': 'book,pen'},\n",
       " {'id': '2',\n",
       "  'name': 'Bob',\n",
       "  'age': '30',\n",
       "  'is_member': 'FALSE',\n",
       "  'join_date': '12/1/2021',\n",
       "  'purchases': 'notebook,laptop'},\n",
       " {'id': '3',\n",
       "  'name': 'Charlie',\n",
       "  'age': '35',\n",
       "  'is_member': 'TRUE',\n",
       "  'join_date': '3/22/2023',\n",
       "  'purchases': 'phone,headphones'},\n",
       " {'id': '4',\n",
       "  'name': 'Diana',\n",
       "  'age': '28',\n",
       "  'is_member': 'TRUE',\n",
       "  'join_date': '6/10/2020',\n",
       "  'purchases': 'tablet,case'},\n",
       " {'id': '5',\n",
       "  'name': 'Eve',\n",
       "  'age': '22',\n",
       "  'is_member': 'FALSE',\n",
       "  'join_date': '9/30/2022',\n",
       "  'purchases': 'camera,lens'},\n",
       " {'id': '6',\n",
       "  'name': 'Frank',\n",
       "  'age': '40',\n",
       "  'is_member': 'TRUE',\n",
       "  'join_date': '11/5/2019',\n",
       "  'purchases': 'printer,ink'},\n",
       " {'id': '7',\n",
       "  'name': 'Grace',\n",
       "  'age': '31',\n",
       "  'is_member': 'FALSE',\n",
       "  'join_date': '4/19/2021',\n",
       "  'purchases': 'monitor,keyboard'},\n",
       " {'id': '8',\n",
       "  'name': 'Hank',\n",
       "  'age': '27',\n",
       "  'is_member': 'TRUE',\n",
       "  'join_date': '7/1/2023',\n",
       "  'purchases': 'smartwatch,charger'},\n",
       " {'id': '9',\n",
       "  'name': 'Ivy',\n",
       "  'age': '29',\n",
       "  'is_member': 'FALSE',\n",
       "  'join_date': '8/15/2022',\n",
       "  'purchases': 'desk,chair'},\n",
       " {'id': '10',\n",
       "  'name': 'Jack',\n",
       "  'age': '33',\n",
       "  'is_member': 'TRUE',\n",
       "  'join_date': '2/28/2020',\n",
       "  'purchases': 'router,cables'}]"
      ]
     },
     "execution_count": 11,
     "metadata": {},
     "output_type": "execute_result"
    }
   ],
   "source": [
    "allFilesData.collect()"
   ]
  },
  {
   "cell_type": "code",
   "execution_count": null,
   "id": "5e29478e-7f52-425d-84e9-730ddbf2f23c",
   "metadata": {},
   "outputs": [],
   "source": []
  }
 ],
 "metadata": {
  "kernelspec": {
   "display_name": "Python 3 (ipykernel)",
   "language": "python",
   "name": "python3"
  },
  "language_info": {
   "codemirror_mode": {
    "name": "ipython",
    "version": 3
   },
   "file_extension": ".py",
   "mimetype": "text/x-python",
   "name": "python",
   "nbconvert_exporter": "python",
   "pygments_lexer": "ipython3",
   "version": "3.9.1"
  }
 },
 "nbformat": 4,
 "nbformat_minor": 5
}
