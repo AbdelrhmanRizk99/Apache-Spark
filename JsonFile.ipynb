{
 "cells": [
  {
   "cell_type": "code",
   "execution_count": 1,
   "id": "296a07f7-d6f8-4c7d-95e2-d0f7eac7c90c",
   "metadata": {},
   "outputs": [],
   "source": [
    "import findspark\n",
    "findspark.init()"
   ]
  },
  {
   "cell_type": "code",
   "execution_count": 2,
   "id": "f15d101a-0339-44c0-a73b-f0dabeace5a7",
   "metadata": {},
   "outputs": [],
   "source": [
    "from pyspark import SparkContext, SparkConf"
   ]
  },
  {
   "cell_type": "code",
   "execution_count": 3,
   "id": "e42dae3c-c6f7-4bc8-afa9-e972ed2843d9",
   "metadata": {},
   "outputs": [],
   "source": [
    "conf = SparkConf().setMaster(\"local\").setAppName(\"JSON\")\n",
    "sc = SparkContext(conf=conf)"
   ]
  },
  {
   "cell_type": "code",
   "execution_count": 4,
   "id": "ee786816-6df1-4058-8e37-1fd9f8323029",
   "metadata": {},
   "outputs": [],
   "source": [
    "inputFile = sc.textFile(\"C:/Users/Abdelrhman/OneDrive/Desktop/python/Sources/json.txt\")\n"
   ]
  },
  {
   "cell_type": "code",
   "execution_count": 5,
   "id": "24f31e85-29e0-4441-bb5f-19da8a1a7c78",
   "metadata": {},
   "outputs": [],
   "source": [
    "import json"
   ]
  },
  {
   "cell_type": "code",
   "execution_count": 6,
   "id": "0285f5c9-46db-4b61-b9e2-88765e79502f",
   "metadata": {},
   "outputs": [],
   "source": [
    "data = inputFile.map(lambda x: json.loads(x))"
   ]
  },
  {
   "cell_type": "code",
   "execution_count": 7,
   "id": "80c3494e-2b82-48e6-b17a-c89f04b46fd1",
   "metadata": {},
   "outputs": [
    {
     "data": {
      "text/plain": [
       "['{\"id\": 1, \"name\": \"Alice\", \"age\": 25, \"is_member\": true, \"purchases\": [\"book\", \"pen\"]}',\n",
       " '{\"id\": 2, \"name\": \"Bob\", \"age\": 30, \"is_member\": false, \"purchases\": [\"notebook\", \"laptop\"]}']"
      ]
     },
     "execution_count": 7,
     "metadata": {},
     "output_type": "execute_result"
    }
   ],
   "source": [
    "inputFile.take(2)"
   ]
  },
  {
   "cell_type": "code",
   "execution_count": 8,
   "id": "b9f96d6d-f800-4ada-a280-34cca9e8efd8",
   "metadata": {},
   "outputs": [
    {
     "data": {
      "text/plain": [
       "[{'id': 1,\n",
       "  'name': 'Alice',\n",
       "  'age': 25,\n",
       "  'is_member': True,\n",
       "  'purchases': ['book', 'pen']},\n",
       " {'id': 2,\n",
       "  'name': 'Bob',\n",
       "  'age': 30,\n",
       "  'is_member': False,\n",
       "  'purchases': ['notebook', 'laptop']}]"
      ]
     },
     "execution_count": 8,
     "metadata": {},
     "output_type": "execute_result"
    }
   ],
   "source": [
    "data.take(2)"
   ]
  },
  {
   "cell_type": "code",
   "execution_count": 9,
   "id": "a794c4ab-f1b6-4870-8ca1-cbc2e2f12928",
   "metadata": {},
   "outputs": [],
   "source": [
    "data.sample('false',0.5).map(lambda x: json.dumps(x)).saveAsTextFile(\"C:/Users/Abdelrhman/OneDrive/Desktop/python/Sources/jsonOutput\")"
   ]
  },
  {
   "cell_type": "code",
   "execution_count": null,
   "id": "f3142671-97d0-4be3-a1c2-bb0b88a8efc4",
   "metadata": {},
   "outputs": [],
   "source": []
  }
 ],
 "metadata": {
  "kernelspec": {
   "display_name": "Python 3 (ipykernel)",
   "language": "python",
   "name": "python3"
  },
  "language_info": {
   "codemirror_mode": {
    "name": "ipython",
    "version": 3
   },
   "file_extension": ".py",
   "mimetype": "text/x-python",
   "name": "python",
   "nbconvert_exporter": "python",
   "pygments_lexer": "ipython3",
   "version": "3.9.1"
  }
 },
 "nbformat": 4,
 "nbformat_minor": 5
}
