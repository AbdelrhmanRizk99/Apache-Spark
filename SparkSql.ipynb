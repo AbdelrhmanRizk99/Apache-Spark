{
 "cells": [
  {
   "cell_type": "code",
   "execution_count": 1,
   "id": "d52e9f0c-c4b1-4a60-adb6-308f8606a636",
   "metadata": {},
   "outputs": [],
   "source": [
    "import findspark\n",
    "findspark.init()"
   ]
  },
  {
   "cell_type": "code",
   "execution_count": 2,
   "id": "1a6094bb-1c38-4366-b3ac-3b3ab69fc71b",
   "metadata": {},
   "outputs": [],
   "source": [
    "from pyspark.sql import SparkSession"
   ]
  },
  {
   "cell_type": "code",
   "execution_count": 3,
   "id": "11a7149a-3ccd-4714-9a7b-beb7b9d961a3",
   "metadata": {},
   "outputs": [],
   "source": [
    "spark = SparkSession.builder.getOrCreate()"
   ]
  },
  {
   "cell_type": "code",
   "execution_count": 5,
   "id": "3d9bc37f-fe7c-483c-8d43-8b4bfd0d070c",
   "metadata": {},
   "outputs": [
    {
     "name": "stdout",
     "output_type": "stream",
     "text": [
      "<pyspark.sql.session.SparkSession object at 0x00000248C735AC10>\n"
     ]
    }
   ],
   "source": [
    "print(spark)"
   ]
  },
  {
   "cell_type": "code",
   "execution_count": 6,
   "id": "e6852e76-663e-4725-a0d3-f195ccbd4b9b",
   "metadata": {},
   "outputs": [
    {
     "name": "stdout",
     "output_type": "stream",
     "text": [
      "[]\n"
     ]
    }
   ],
   "source": [
    "# Print the tables in the catalog\n",
    "print(spark.catalog.listTables())"
   ]
  },
  {
   "cell_type": "code",
   "execution_count": 13,
   "id": "633e8284-7114-499f-9fc1-0723c28ebea8",
   "metadata": {},
   "outputs": [],
   "source": [
    "data = [\n",
    "    (1, \"New York\", \"USA\"),\n",
    "    (2, \"London\", \"UK\"),\n",
    "    (3, \"Tokyo\", \"Japan\"),\n",
    "    (4, \"Paris\", \"France\"),\n",
    "    (5, \"Berlin\", \"Germany\"),\n",
    "    (6, \"Sydney\", \"Australia\"),\n",
    "    (7, \"Toronto\", \"Canada\"),\n",
    "    (8, \"Dubai\", \"UAE\"),\n",
    "    (9, \"Beijing\", \"China\"),\n",
    "    (10, \"Moscow\", \"Russia\"),\n",
    "    (11, \"Mumbai\", \"India\"),\n",
    "    (12, \"Cape Town\", \"South Africa\"),\n",
    "    (13, \"Buenos Aires\", \"Argentina\"),\n",
    "    (14, \"Rome\", \"Italy\"),\n",
    "    (15, \"Singapore\", \"Singapore\"),\n",
    "    (16, \"Bangkok\", \"Thailand\"),\n",
    "    (17, \"Mexico City\", \"Mexico\"),\n",
    "    (18, \"Madrid\", \"Spain\"),\n",
    "    (19, \"Istanbul\", \"Turkey\"),\n",
    "    (20, \"Seoul\", \"South Korea\")\n",
    "]\n",
    "\n",
    "columns = [\"id\", \"city\", \"country\"]\n",
    "df = spark.createDataFrame(data, columns)\n",
    "\n",
    "# Save the DataFrame as a table\n",
    "df.write.saveAsTable(\"flights\")"
   ]
  },
  {
   "cell_type": "code",
   "execution_count": 14,
   "id": "378d2277-ed6a-4157-822d-0555c4f0af72",
   "metadata": {},
   "outputs": [
    {
     "name": "stdout",
     "output_type": "stream",
     "text": [
      "[Table(name='flights', catalog='spark_catalog', namespace=['default'], description=None, tableType='MANAGED', isTemporary=False)]\n"
     ]
    }
   ],
   "source": [
    "print(spark.catalog.listTables())"
   ]
  },
  {
   "cell_type": "code",
   "execution_count": 16,
   "id": "ab36d70b-68c4-4072-be5f-b1038d2428a4",
   "metadata": {},
   "outputs": [
    {
     "name": "stdout",
     "output_type": "stream",
     "text": [
      "+---+--------+-------+\n",
      "| id|    city|country|\n",
      "+---+--------+-------+\n",
      "|  1|New York|    USA|\n",
      "|  2|  London|     UK|\n",
      "|  3|   Tokyo|  Japan|\n",
      "|  4|   Paris| France|\n",
      "|  5|  Berlin|Germany|\n",
      "+---+--------+-------+\n",
      "\n"
     ]
    }
   ],
   "source": [
    "query = \" SELECT *  FROM flights ORDER BY ID LIMIT 5\"\n",
    "flights5 = spark.sql(query)\n",
    "flights5.show()"
   ]
  },
  {
   "cell_type": "code",
   "execution_count": 22,
   "id": "27b8f4a6-c7f7-46cb-8927-dab1a8b1215b",
   "metadata": {},
   "outputs": [],
   "source": [
    "import pandas"
   ]
  },
  {
   "cell_type": "code",
   "execution_count": 24,
   "id": "a13e56cc-adb4-4d62-87dc-a51fa08fa8b0",
   "metadata": {},
   "outputs": [
    {
     "name": "stdout",
     "output_type": "stream",
     "text": [
      "        country  count_of_cities\n",
      "0  South Africa                1\n",
      "1     Argentina                1\n",
      "2        Mexico                1\n",
      "3     Australia                1\n",
      "4      Thailand                1\n"
     ]
    }
   ],
   "source": [
    "query = \"SELECT country, COUNT(city) as count_of_cities FROM flights GROUP BY country\"\n",
    "\n",
    "flight_counts = spark.sql(query)\n",
    "\n",
    "# Convert the results to a pandas DataFrame\n",
    "pd_counts = flight_counts.toPandas()\n",
    "\n",
    "print(pd_counts.head())"
   ]
  },
  {
   "cell_type": "code",
   "execution_count": 28,
   "id": "6c71982a-73ce-4908-adc3-c97ebcb22327",
   "metadata": {},
   "outputs": [],
   "source": [
    "import numpy as np"
   ]
  },
  {
   "cell_type": "code",
   "execution_count": 31,
   "id": "fb56bacd-d42e-439c-b638-e3346723194b",
   "metadata": {},
   "outputs": [
    {
     "name": "stdout",
     "output_type": "stream",
     "text": [
      "[Table(name='flights', catalog='spark_catalog', namespace=['default'], description=None, tableType='MANAGED', isTemporary=False)]\n"
     ]
    }
   ],
   "source": [
    "pd_temp = pandas.DataFrame(np.random.random(10))\n",
    "\n",
    "spark_temp = spark.createDataFrame(pd_temp)\n",
    "\n",
    "print(spark.catalog.listTables())\n"
   ]
  },
  {
   "cell_type": "code",
   "execution_count": 36,
   "id": "91f0ab2e-cc48-498a-99eb-3ec4764b4251",
   "metadata": {},
   "outputs": [
    {
     "name": "stdout",
     "output_type": "stream",
     "text": [
      "[Table(name='flights', catalog='spark_catalog', namespace=['default'], description=None, tableType='MANAGED', isTemporary=False), Table(name='temp_table', catalog=None, namespace=[], description=None, tableType='TEMPORARY', isTemporary=True)]\n"
     ]
    }
   ],
   "source": [
    "# Add spark_temp to the catalog\n",
    "spark_temp.createOrReplaceTempView(\"temp_table\")\n",
    "\n",
    "print(spark.catalog.listTables())"
   ]
  },
  {
   "cell_type": "code",
   "execution_count": null,
   "id": "681b4a82-a168-4e52-ba95-b4304fedbc20",
   "metadata": {},
   "outputs": [],
   "source": []
  }
 ],
 "metadata": {
  "kernelspec": {
   "display_name": "Python 3 (ipykernel)",
   "language": "python",
   "name": "python3"
  },
  "language_info": {
   "codemirror_mode": {
    "name": "ipython",
    "version": 3
   },
   "file_extension": ".py",
   "mimetype": "text/x-python",
   "name": "python",
   "nbconvert_exporter": "python",
   "pygments_lexer": "ipython3",
   "version": "3.9.1"
  }
 },
 "nbformat": 4,
 "nbformat_minor": 5
}
